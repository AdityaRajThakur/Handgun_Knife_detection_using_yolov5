{
  "cells": [
    {
      "cell_type": "markdown",
      "metadata": {
        "id": "view-in-github",
        "colab_type": "text"
      },
      "source": [
        "<a href=\"https://colab.research.google.com/github/AdityaRajThakur/Handgun_Knife_detection_using_yolov5/blob/main/Handgun_detection_using_yolov5.ipynb\" target=\"_parent\"><img src=\"https://colab.research.google.com/assets/colab-badge.svg\" alt=\"Open In Colab\"/></a>"
      ]
    },
    {
      "cell_type": "code",
      "execution_count": null,
      "metadata": {
        "id": "58EYsPAmMNf4"
      },
      "outputs": [],
      "source": [
        "!pip install kaggle "
      ]
    },
    {
      "cell_type": "code",
      "execution_count": 11,
      "metadata": {
        "colab": {
          "base_uri": "https://localhost:8080/"
        },
        "id": "4ptHzuSV5vPu",
        "outputId": "bc098527-cbe3-4ab3-b3c8-1c8ab6c7ec58"
      },
      "outputs": [
        {
          "output_type": "execute_result",
          "data": {
            "text/plain": [
              "True"
            ]
          },
          "metadata": {},
          "execution_count": 11
        }
      ],
      "source": [
        "import tensorflow as tf\n",
        "tf.test.is_gpu_available() "
      ]
    },
    {
      "cell_type": "code",
      "execution_count": 5,
      "metadata": {
        "id": "e6zpHnkvMWNY"
      },
      "outputs": [],
      "source": [
        "!cp kaggle.json ~/.kaggle/"
      ]
    },
    {
      "cell_type": "code",
      "execution_count": 6,
      "metadata": {
        "id": "RYRFLVqcFDfx"
      },
      "outputs": [],
      "source": [
        "! chmod 600 ~/.kaggle/kaggle.json"
      ]
    },
    {
      "cell_type": "code",
      "execution_count": 7,
      "metadata": {
        "id": "dqmPVe2LMcjM",
        "colab": {
          "base_uri": "https://localhost:8080/"
        },
        "outputId": "29ab3e32-15fc-40f8-f695-aa01d1fea0bf"
      },
      "outputs": [
        {
          "output_type": "stream",
          "name": "stdout",
          "text": [
            "Downloading weapon-dataset-for-yolov5.zip to /content\n",
            "100% 217M/217M [00:01<00:00, 120MB/s]\n",
            "100% 217M/217M [00:01<00:00, 115MB/s]\n"
          ]
        }
      ],
      "source": [
        "!kaggle datasets download -d raghavnanjappan/weapon-dataset-for-yolov5"
      ]
    },
    {
      "cell_type": "code",
      "execution_count": null,
      "metadata": {
        "colab": {
          "base_uri": "https://localhost:8080/"
        },
        "id": "isxH8X8CFHnR",
        "outputId": "082871d6-263e-4e1c-ddb9-003c121ee090"
      },
      "outputs": [
        {
          "name": "stdout",
          "output_type": "stream",
          "text": [
            "kaggle.json  sample_data\n"
          ]
        }
      ],
      "source": [
        "!dir"
      ]
    },
    {
      "cell_type": "code",
      "execution_count": null,
      "metadata": {
        "id": "Xs2PiNrhM9vx"
      },
      "outputs": [],
      "source": [
        "!unzip weapon-dataset-for-yolov5.zip"
      ]
    },
    {
      "cell_type": "code",
      "execution_count": 9,
      "metadata": {
        "id": "mEBiJHyTNUG-",
        "colab": {
          "base_uri": "https://localhost:8080/"
        },
        "outputId": "1272d0f0-baef-4c98-9735-63a3ab592b51"
      },
      "outputs": [
        {
          "output_type": "stream",
          "name": "stdout",
          "text": [
            "Cloning into 'yolov5'...\n",
            "remote: Enumerating objects: 15348, done.\u001b[K\n",
            "remote: Counting objects: 100% (13/13), done.\u001b[K\n",
            "remote: Compressing objects: 100% (13/13), done.\u001b[K\n",
            "remote: Total 15348 (delta 2), reused 6 (delta 0), pack-reused 15335\u001b[K\n",
            "Receiving objects: 100% (15348/15348), 14.16 MiB | 22.79 MiB/s, done.\n",
            "Resolving deltas: 100% (10526/10526), done.\n"
          ]
        }
      ],
      "source": [
        "!git clone https://github.com/ultralytics/yolov5"
      ]
    },
    {
      "cell_type": "code",
      "execution_count": 10,
      "metadata": {
        "colab": {
          "base_uri": "https://localhost:8080/"
        },
        "id": "F0SFs7q0QGXg",
        "outputId": "fc5b7930-231a-4d2e-ecb4-ea670635179d"
      },
      "outputs": [
        {
          "output_type": "stream",
          "name": "stdout",
          "text": [
            "/content/yolov5\n"
          ]
        }
      ],
      "source": [
        "%cd yolov5 "
      ]
    },
    {
      "cell_type": "code",
      "execution_count": 12,
      "metadata": {
        "id": "q8rU4J6ZS70x"
      },
      "outputs": [],
      "source": [
        "!cp ../dataset.yaml ./data"
      ]
    },
    {
      "cell_type": "code",
      "execution_count": null,
      "metadata": {
        "id": "GiH95bdKTpzD"
      },
      "outputs": [],
      "source": [
        "!pip install -r requirements.txt "
      ]
    },
    {
      "cell_type": "code",
      "execution_count": 14,
      "metadata": {
        "colab": {
          "base_uri": "https://localhost:8080/"
        },
        "id": "Pc9HA6W9UkP7",
        "outputId": "727fe392-217f-48fc-d797-9f2d8b2b6fc2"
      },
      "outputs": [
        {
          "output_type": "stream",
          "name": "stdout",
          "text": [
            "       0/49      7.32G    0.08092    0.02374    0.01897         74        640: 100% 125/125 [01:54<00:00,  1.09it/s]\n",
            "                 Class     Images  Instances          P          R      mAP50   mAP50-95: 100% 3/3 [00:05<00:00,  1.77s/it]\n",
            "                   all        156        190      0.351      0.434      0.278       0.11\n",
            "\n",
            "      Epoch    GPU_mem   box_loss   obj_loss   cls_loss  Instances       Size\n",
            "       1/49      9.12G    0.05697    0.01831    0.00582         78        640: 100% 125/125 [01:51<00:00,  1.12it/s]\n",
            "                 Class     Images  Instances          P          R      mAP50   mAP50-95: 100% 3/3 [00:03<00:00,  1.20s/it]\n",
            "                   all        156        190      0.485      0.504      0.426       0.19\n",
            "\n",
            "      Epoch    GPU_mem   box_loss   obj_loss   cls_loss  Instances       Size\n",
            "       2/49      9.12G    0.05238    0.01758   0.005217         80        640: 100% 125/125 [01:51<00:00,  1.13it/s]\n",
            "                 Class     Images  Instances          P          R      mAP50   mAP50-95: 100% 3/3 [00:02<00:00,  1.18it/s]\n",
            "                   all        156        190      0.579      0.377      0.407      0.166\n",
            "\n",
            "      Epoch    GPU_mem   box_loss   obj_loss   cls_loss  Instances       Size\n",
            "       3/49      9.12G    0.05117    0.01787   0.005424         72        640: 100% 125/125 [01:53<00:00,  1.10it/s]\n",
            "                 Class     Images  Instances          P          R      mAP50   mAP50-95: 100% 3/3 [00:02<00:00,  1.25it/s]\n",
            "                   all        156        190      0.405      0.429      0.325      0.132\n",
            "\n",
            "      Epoch    GPU_mem   box_loss   obj_loss   cls_loss  Instances       Size\n",
            "       4/49      9.12G    0.04891    0.01825    0.00511         65        640: 100% 125/125 [01:53<00:00,  1.10it/s]\n",
            "                 Class     Images  Instances          P          R      mAP50   mAP50-95: 100% 3/3 [00:02<00:00,  1.23it/s]\n",
            "                   all        156        190      0.624      0.416      0.452      0.184\n",
            "\n",
            "      Epoch    GPU_mem   box_loss   obj_loss   cls_loss  Instances       Size\n",
            "       5/49      9.12G    0.04734    0.01765   0.004047         76        640: 100% 125/125 [01:53<00:00,  1.10it/s]\n",
            "                 Class     Images  Instances          P          R      mAP50   mAP50-95: 100% 3/3 [00:02<00:00,  1.22it/s]\n",
            "                   all        156        190      0.501      0.348      0.347       0.15\n",
            "\n",
            "      Epoch    GPU_mem   box_loss   obj_loss   cls_loss  Instances       Size\n",
            "       6/49      9.12G    0.04487    0.01693   0.003897         84        640: 100% 125/125 [01:51<00:00,  1.12it/s]\n",
            "                 Class     Images  Instances          P          R      mAP50   mAP50-95: 100% 3/3 [00:03<00:00,  1.18s/it]\n",
            "                   all        156        190      0.656      0.511       0.56      0.223\n",
            "\n",
            "      Epoch    GPU_mem   box_loss   obj_loss   cls_loss  Instances       Size\n",
            "       7/49      9.12G    0.04432    0.01706   0.003774         77        640: 100% 125/125 [01:53<00:00,  1.10it/s]\n",
            "                 Class     Images  Instances          P          R      mAP50   mAP50-95: 100% 3/3 [00:03<00:00,  1.15s/it]\n",
            "                   all        156        190      0.624      0.459      0.512      0.219\n",
            "\n",
            "      Epoch    GPU_mem   box_loss   obj_loss   cls_loss  Instances       Size\n",
            "       8/49      9.12G    0.04304    0.01642   0.003326         64        640: 100% 125/125 [01:51<00:00,  1.12it/s]\n",
            "                 Class     Images  Instances          P          R      mAP50   mAP50-95: 100% 3/3 [00:02<00:00,  1.30it/s]\n",
            "                   all        156        190      0.717       0.44      0.523       0.23\n",
            "\n",
            "      Epoch    GPU_mem   box_loss   obj_loss   cls_loss  Instances       Size\n",
            "       9/49      9.12G    0.04263    0.01621   0.003408         79        640: 100% 125/125 [01:52<00:00,  1.11it/s]\n",
            "                 Class     Images  Instances          P          R      mAP50   mAP50-95: 100% 3/3 [00:02<00:00,  1.24it/s]\n",
            "                   all        156        190      0.676      0.498      0.521      0.248\n",
            "\n",
            "      Epoch    GPU_mem   box_loss   obj_loss   cls_loss  Instances       Size\n",
            "      10/49      9.12G    0.04218    0.01598   0.002906         81        640: 100% 125/125 [01:51<00:00,  1.12it/s]\n",
            "                 Class     Images  Instances          P          R      mAP50   mAP50-95: 100% 3/3 [00:02<00:00,  1.20it/s]\n",
            "                   all        156        190      0.625       0.49      0.534      0.232\n",
            "\n",
            "      Epoch    GPU_mem   box_loss   obj_loss   cls_loss  Instances       Size\n",
            "      11/49      9.12G    0.04067     0.0155   0.002389         72        640: 100% 125/125 [01:49<00:00,  1.14it/s]\n",
            "                 Class     Images  Instances          P          R      mAP50   mAP50-95: 100% 3/3 [00:01<00:00,  1.51it/s]\n",
            "                   all        156        190      0.634      0.445      0.489      0.245\n",
            "\n",
            "      Epoch    GPU_mem   box_loss   obj_loss   cls_loss  Instances       Size\n",
            "      12/49      9.12G    0.03965    0.01566   0.002586         67        640: 100% 125/125 [01:51<00:00,  1.12it/s]\n",
            "                 Class     Images  Instances          P          R      mAP50   mAP50-95: 100% 3/3 [00:02<00:00,  1.25it/s]\n",
            "                   all        156        190      0.669       0.53      0.611      0.289\n",
            "\n",
            "      Epoch    GPU_mem   box_loss   obj_loss   cls_loss  Instances       Size\n",
            "      13/49      9.12G    0.03925    0.01533   0.002183         78        640: 100% 125/125 [01:49<00:00,  1.15it/s]\n",
            "                 Class     Images  Instances          P          R      mAP50   mAP50-95: 100% 3/3 [00:03<00:00,  1.11s/it]\n",
            "                   all        156        190      0.705      0.579      0.635      0.292\n",
            "\n",
            "      Epoch    GPU_mem   box_loss   obj_loss   cls_loss  Instances       Size\n",
            "      14/49      9.12G    0.03891    0.01504    0.00207         79        640: 100% 125/125 [01:50<00:00,  1.13it/s]\n",
            "                 Class     Images  Instances          P          R      mAP50   mAP50-95: 100% 3/3 [00:02<00:00,  1.48it/s]\n",
            "                   all        156        190      0.759      0.601      0.668        0.3\n",
            "\n",
            "      Epoch    GPU_mem   box_loss   obj_loss   cls_loss  Instances       Size\n",
            "      15/49      9.12G    0.03818    0.01512   0.001811         71        640: 100% 125/125 [01:51<00:00,  1.12it/s]\n",
            "                 Class     Images  Instances          P          R      mAP50   mAP50-95: 100% 3/3 [00:02<00:00,  1.31it/s]\n",
            "                   all        156        190      0.651      0.603      0.618       0.27\n",
            "\n",
            "      Epoch    GPU_mem   box_loss   obj_loss   cls_loss  Instances       Size\n",
            "      16/49      9.12G    0.03776    0.01463   0.001739         79        640: 100% 125/125 [01:48<00:00,  1.15it/s]\n",
            "                 Class     Images  Instances          P          R      mAP50   mAP50-95: 100% 3/3 [00:03<00:00,  1.20s/it]\n",
            "                   all        156        190      0.731      0.604      0.664      0.302\n",
            "\n",
            "      Epoch    GPU_mem   box_loss   obj_loss   cls_loss  Instances       Size\n",
            "      17/49      9.12G    0.03776    0.01463   0.001783         79        640: 100% 125/125 [01:49<00:00,  1.15it/s]\n",
            "                 Class     Images  Instances          P          R      mAP50   mAP50-95: 100% 3/3 [00:02<00:00,  1.44it/s]\n",
            "                   all        156        190      0.742      0.608      0.655      0.291\n",
            "\n",
            "      Epoch    GPU_mem   box_loss   obj_loss   cls_loss  Instances       Size\n",
            "      18/49      9.12G    0.03686    0.01427   0.001982         72        640: 100% 125/125 [01:50<00:00,  1.13it/s]\n",
            "                 Class     Images  Instances          P          R      mAP50   mAP50-95: 100% 3/3 [00:02<00:00,  1.23it/s]\n",
            "                   all        156        190      0.694      0.604       0.64      0.298\n",
            "\n",
            "      Epoch    GPU_mem   box_loss   obj_loss   cls_loss  Instances       Size\n",
            "      19/49      9.12G    0.03666    0.01444   0.001709         84        640: 100% 125/125 [01:50<00:00,  1.14it/s]\n",
            "                 Class     Images  Instances          P          R      mAP50   mAP50-95: 100% 3/3 [00:02<00:00,  1.34it/s]\n",
            "                   all        156        190      0.726      0.648      0.651      0.313\n",
            "\n",
            "      Epoch    GPU_mem   box_loss   obj_loss   cls_loss  Instances       Size\n",
            "      20/49      9.12G    0.03594    0.01413   0.001639         76        640: 100% 125/125 [01:50<00:00,  1.13it/s]\n",
            "                 Class     Images  Instances          P          R      mAP50   mAP50-95: 100% 3/3 [00:01<00:00,  1.56it/s]\n",
            "                   all        156        190      0.723      0.642      0.673      0.324\n",
            "\n",
            "      Epoch    GPU_mem   box_loss   obj_loss   cls_loss  Instances       Size\n",
            "      21/49      9.12G    0.03651    0.01405   0.001889         88        640: 100% 125/125 [01:49<00:00,  1.15it/s]\n",
            "                 Class     Images  Instances          P          R      mAP50   mAP50-95: 100% 3/3 [00:03<00:00,  1.17s/it]\n",
            "                   all        156        190      0.706      0.618      0.662      0.314\n",
            "\n",
            "      Epoch    GPU_mem   box_loss   obj_loss   cls_loss  Instances       Size\n",
            "      22/49      9.12G    0.03528    0.01399   0.001654         75        640: 100% 125/125 [01:50<00:00,  1.14it/s]\n",
            "                 Class     Images  Instances          P          R      mAP50   mAP50-95: 100% 3/3 [00:02<00:00,  1.21it/s]\n",
            "                   all        156        190      0.704      0.584      0.639      0.295\n",
            "\n",
            "      Epoch    GPU_mem   box_loss   obj_loss   cls_loss  Instances       Size\n",
            "      23/49      9.12G    0.03501    0.01385   0.001512         71        640: 100% 125/125 [01:51<00:00,  1.12it/s]\n",
            "                 Class     Images  Instances          P          R      mAP50   mAP50-95: 100% 3/3 [00:01<00:00,  1.61it/s]\n",
            "                   all        156        190      0.693      0.622       0.64       0.29\n",
            "\n",
            "      Epoch    GPU_mem   box_loss   obj_loss   cls_loss  Instances       Size\n",
            "      24/49      9.12G    0.03494    0.01351   0.001466         78        640: 100% 125/125 [01:49<00:00,  1.15it/s]\n",
            "                 Class     Images  Instances          P          R      mAP50   mAP50-95: 100% 3/3 [00:02<00:00,  1.23it/s]\n",
            "                   all        156        190      0.784      0.632      0.714      0.324\n",
            "\n",
            "      Epoch    GPU_mem   box_loss   obj_loss   cls_loss  Instances       Size\n",
            "      25/49      9.12G    0.03417     0.0137   0.001486         90        640: 100% 125/125 [01:52<00:00,  1.11it/s]\n",
            "                 Class     Images  Instances          P          R      mAP50   mAP50-95: 100% 3/3 [00:02<00:00,  1.22it/s]\n",
            "                   all        156        190      0.779      0.604      0.691      0.316\n",
            "\n",
            "      Epoch    GPU_mem   box_loss   obj_loss   cls_loss  Instances       Size\n",
            "      26/49      9.12G    0.03381    0.01346   0.001361         61        640: 100% 125/125 [01:48<00:00,  1.15it/s]\n",
            "                 Class     Images  Instances          P          R      mAP50   mAP50-95: 100% 3/3 [00:03<00:00,  1.13s/it]\n",
            "                   all        156        190      0.627      0.642      0.619      0.273\n",
            "\n",
            "      Epoch    GPU_mem   box_loss   obj_loss   cls_loss  Instances       Size\n",
            "      27/49      9.12G    0.03337    0.01343   0.001252         72        640: 100% 125/125 [01:48<00:00,  1.15it/s]\n",
            "                 Class     Images  Instances          P          R      mAP50   mAP50-95: 100% 3/3 [00:02<00:00,  1.24it/s]\n",
            "                   all        156        190      0.697       0.63      0.632      0.306\n",
            "\n",
            "      Epoch    GPU_mem   box_loss   obj_loss   cls_loss  Instances       Size\n",
            "      28/49      9.12G    0.03285    0.01338  0.0009947         76        640: 100% 125/125 [01:49<00:00,  1.14it/s]\n",
            "                 Class     Images  Instances          P          R      mAP50   mAP50-95: 100% 3/3 [00:03<00:00,  1.01s/it]\n",
            "                   all        156        190      0.732      0.636      0.667      0.321\n",
            "\n",
            "      Epoch    GPU_mem   box_loss   obj_loss   cls_loss  Instances       Size\n",
            "      29/49      9.12G    0.03262    0.01279   0.001102         75        640: 100% 125/125 [01:49<00:00,  1.14it/s]\n",
            "                 Class     Images  Instances          P          R      mAP50   mAP50-95: 100% 3/3 [00:01<00:00,  1.56it/s]\n",
            "                   all        156        190      0.728      0.671      0.666      0.322\n",
            "\n",
            "      Epoch    GPU_mem   box_loss   obj_loss   cls_loss  Instances       Size\n",
            "      30/49      9.12G    0.03278    0.01315   0.001318         94        640: 100% 125/125 [01:50<00:00,  1.13it/s]\n",
            "                 Class     Images  Instances          P          R      mAP50   mAP50-95: 100% 3/3 [00:01<00:00,  1.57it/s]\n",
            "                   all        156        190      0.757      0.657      0.678      0.336\n",
            "\n",
            "      Epoch    GPU_mem   box_loss   obj_loss   cls_loss  Instances       Size\n",
            "      31/49      9.12G    0.03197    0.01295    0.00101         74        640: 100% 125/125 [01:50<00:00,  1.13it/s]\n",
            "                 Class     Images  Instances          P          R      mAP50   mAP50-95: 100% 3/3 [00:02<00:00,  1.12it/s]\n",
            "                   all        156        190      0.766      0.624      0.661      0.306\n",
            "\n",
            "      Epoch    GPU_mem   box_loss   obj_loss   cls_loss  Instances       Size\n",
            "      32/49      9.12G    0.03195    0.01288  0.0009135         62        640: 100% 125/125 [01:49<00:00,  1.14it/s]\n",
            "                 Class     Images  Instances          P          R      mAP50   mAP50-95: 100% 3/3 [00:02<00:00,  1.18it/s]\n",
            "                   all        156        190       0.68       0.62       0.66      0.331\n",
            "\n",
            "      Epoch    GPU_mem   box_loss   obj_loss   cls_loss  Instances       Size\n",
            "      33/49      9.12G    0.03143    0.01272  0.0009679         67        640: 100% 125/125 [01:51<00:00,  1.12it/s]\n",
            "                 Class     Images  Instances          P          R      mAP50   mAP50-95: 100% 3/3 [00:02<00:00,  1.10it/s]\n",
            "                   all        156        190      0.715      0.661      0.711      0.327\n",
            "\n",
            "      Epoch    GPU_mem   box_loss   obj_loss   cls_loss  Instances       Size\n",
            "      34/49      9.12G     0.0311    0.01275    0.00108         76        640: 100% 125/125 [01:49<00:00,  1.14it/s]\n",
            "                 Class     Images  Instances          P          R      mAP50   mAP50-95: 100% 3/3 [00:02<00:00,  1.30it/s]\n",
            "                   all        156        190      0.764      0.641      0.667      0.321\n",
            "\n",
            "      Epoch    GPU_mem   box_loss   obj_loss   cls_loss  Instances       Size\n",
            "      35/49      9.12G    0.03111    0.01272   0.000836         77        640: 100% 125/125 [01:53<00:00,  1.11it/s]\n",
            "                 Class     Images  Instances          P          R      mAP50   mAP50-95: 100% 3/3 [00:02<00:00,  1.19it/s]\n",
            "                   all        156        190      0.693      0.688      0.691      0.329\n",
            "\n",
            "      Epoch    GPU_mem   box_loss   obj_loss   cls_loss  Instances       Size\n",
            "      36/49      9.12G     0.0301    0.01248  0.0008077         69        640: 100% 125/125 [01:48<00:00,  1.15it/s]\n",
            "                 Class     Images  Instances          P          R      mAP50   mAP50-95: 100% 3/3 [00:02<00:00,  1.06it/s]\n",
            "                   all        156        190      0.735      0.595      0.651      0.319\n",
            "\n",
            "      Epoch    GPU_mem   box_loss   obj_loss   cls_loss  Instances       Size\n",
            "      37/49      9.12G    0.03023    0.01233  0.0009759         68        640: 100% 125/125 [01:50<00:00,  1.13it/s]\n",
            "                 Class     Images  Instances          P          R      mAP50   mAP50-95: 100% 3/3 [00:02<00:00,  1.24it/s]\n",
            "                   all        156        190       0.78      0.644      0.696       0.32\n",
            "\n",
            "      Epoch    GPU_mem   box_loss   obj_loss   cls_loss  Instances       Size\n",
            "      38/49      9.12G     0.0297    0.01208  0.0007702         72        640: 100% 125/125 [01:50<00:00,  1.13it/s]\n",
            "                 Class     Images  Instances          P          R      mAP50   mAP50-95: 100% 3/3 [00:02<00:00,  1.30it/s]\n",
            "                   all        156        190       0.74      0.658      0.711      0.351\n",
            "\n",
            "      Epoch    GPU_mem   box_loss   obj_loss   cls_loss  Instances       Size\n",
            "      39/49      9.12G    0.02981      0.012   0.000897         85        640: 100% 125/125 [01:50<00:00,  1.13it/s]\n",
            "                 Class     Images  Instances          P          R      mAP50   mAP50-95: 100% 3/3 [00:03<00:00,  1.16s/it]\n",
            "                   all        156        190      0.705       0.64      0.675       0.33\n",
            "\n",
            "      Epoch    GPU_mem   box_loss   obj_loss   cls_loss  Instances       Size\n",
            "      40/49      9.12G     0.0296    0.01202  0.0007802         68        640: 100% 125/125 [01:50<00:00,  1.13it/s]\n",
            "                 Class     Images  Instances          P          R      mAP50   mAP50-95: 100% 3/3 [00:01<00:00,  1.51it/s]\n",
            "                   all        156        190       0.76      0.636      0.694      0.339\n",
            "\n",
            "      Epoch    GPU_mem   box_loss   obj_loss   cls_loss  Instances       Size\n",
            "      41/49      9.12G    0.02893    0.01187  0.0007657         64        640: 100% 125/125 [01:51<00:00,  1.12it/s]\n",
            "                 Class     Images  Instances          P          R      mAP50   mAP50-95: 100% 3/3 [00:02<00:00,  1.31it/s]\n",
            "                   all        156        190      0.752      0.678      0.717      0.335\n",
            "\n",
            "      Epoch    GPU_mem   box_loss   obj_loss   cls_loss  Instances       Size\n",
            "      42/49      9.12G    0.02879    0.01193  0.0006744         72        640: 100% 125/125 [01:50<00:00,  1.13it/s]\n",
            "                 Class     Images  Instances          P          R      mAP50   mAP50-95: 100% 3/3 [00:03<00:00,  1.08s/it]\n",
            "                   all        156        190       0.75      0.662      0.707      0.346\n",
            "\n",
            "      Epoch    GPU_mem   box_loss   obj_loss   cls_loss  Instances       Size\n",
            "      43/49      9.12G    0.02862    0.01182  0.0006243         71        640: 100% 125/125 [01:50<00:00,  1.13it/s]\n",
            "                 Class     Images  Instances          P          R      mAP50   mAP50-95: 100% 3/3 [00:02<00:00,  1.22it/s]\n",
            "                   all        156        190      0.755      0.669      0.699      0.337\n",
            "\n",
            "      Epoch    GPU_mem   box_loss   obj_loss   cls_loss  Instances       Size\n",
            "      44/49      9.12G    0.02832    0.01172  0.0007177         65        640: 100% 125/125 [01:50<00:00,  1.13it/s]\n",
            "                 Class     Images  Instances          P          R      mAP50   mAP50-95: 100% 3/3 [00:02<00:00,  1.23it/s]\n",
            "                   all        156        190      0.731      0.666      0.717      0.351\n",
            "\n",
            "      Epoch    GPU_mem   box_loss   obj_loss   cls_loss  Instances       Size\n",
            "      45/49      9.12G    0.02787    0.01172  0.0006082         88        640: 100% 125/125 [01:49<00:00,  1.14it/s]\n",
            "                 Class     Images  Instances          P          R      mAP50   mAP50-95: 100% 3/3 [00:02<00:00,  1.14it/s]\n",
            "                   all        156        190      0.745      0.649      0.688      0.345\n",
            "\n",
            "      Epoch    GPU_mem   box_loss   obj_loss   cls_loss  Instances       Size\n",
            "      46/49      9.12G    0.02747     0.0116  0.0006576         70        640: 100% 125/125 [01:50<00:00,  1.13it/s]\n",
            "                 Class     Images  Instances          P          R      mAP50   mAP50-95: 100% 3/3 [00:02<00:00,  1.26it/s]\n",
            "                   all        156        190      0.719      0.704      0.703      0.345\n",
            "\n",
            "      Epoch    GPU_mem   box_loss   obj_loss   cls_loss  Instances       Size\n",
            "      47/49      9.12G    0.02706    0.01144  0.0005614         65        640: 100% 125/125 [01:51<00:00,  1.12it/s]\n",
            "                 Class     Images  Instances          P          R      mAP50   mAP50-95: 100% 3/3 [00:02<00:00,  1.40it/s]\n",
            "                   all        156        190      0.735      0.687      0.716      0.348\n",
            "\n",
            "      Epoch    GPU_mem   box_loss   obj_loss   cls_loss  Instances       Size\n",
            "      48/49      9.12G    0.02659    0.01128  0.0006381         67        640: 100% 125/125 [01:49<00:00,  1.14it/s]\n",
            "                 Class     Images  Instances          P          R      mAP50   mAP50-95: 100% 3/3 [00:02<00:00,  1.03it/s]\n",
            "                   all        156        190      0.754      0.671      0.713      0.352\n",
            "\n",
            "      Epoch    GPU_mem   box_loss   obj_loss   cls_loss  Instances       Size\n",
            "      49/49      9.12G    0.02736    0.01139  0.0006086         78        640: 100% 125/125 [01:49<00:00,  1.15it/s]\n",
            "                 Class     Images  Instances          P          R      mAP50   mAP50-95: 100% 3/3 [00:02<00:00,  1.22it/s]\n",
            "                   all        156        190      0.726      0.693      0.715      0.345\n",
            "\n",
            "50 epochs completed in 1.589 hours.\n",
            "Optimizer stripped from runs/train/exp/weights/last.pt, 14.4MB\n",
            "Optimizer stripped from runs/train/exp/weights/best.pt, 14.4MB\n",
            "\n",
            "Validating runs/train/exp/weights/best.pt...\n",
            "Fusing layers... \n",
            "Model summary: 157 layers, 7015519 parameters, 0 gradients, 15.8 GFLOPs\n",
            "                 Class     Images  Instances          P          R      mAP50   mAP50-95: 100% 3/3 [00:03<00:00,  1.19s/it]\n",
            "                   all        156        190      0.754      0.671      0.713      0.352\n",
            "                 Knife        156         90       0.67      0.632      0.608      0.208\n",
            "               Handgun        156        100      0.837       0.71      0.818      0.497\n",
            "Results saved to \u001b[1mruns/train/exp\u001b[0m\n"
          ]
        }
      ],
      "source": [
        "!python train.py --img 640 --batch 32 --epochs 50 --data dataset.yaml --weights yolov5s.pt"
      ]
    },
    {
      "cell_type": "code",
      "execution_count": null,
      "metadata": {
        "id": "azVBFhdzU3eT"
      },
      "outputs": [],
      "source": []
    }
  ],
  "metadata": {
    "accelerator": "GPU",
    "colab": {
      "provenance": [],
      "authorship_tag": "ABX9TyPR+TrzzID+q/1J09ygGTBJ",
      "include_colab_link": true
    },
    "gpuClass": "standard",
    "kernelspec": {
      "display_name": "Python 3",
      "name": "python3"
    },
    "language_info": {
      "name": "python"
    }
  },
  "nbformat": 4,
  "nbformat_minor": 0
}